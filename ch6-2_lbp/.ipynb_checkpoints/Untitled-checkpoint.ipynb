{
 "cells": [
  {
   "cell_type": "code",
   "execution_count": 1,
   "metadata": {},
   "outputs": [],
   "source": [
    "import numpy as np\n",
    "\n",
    "def solution(img):\n",
    "    '''\n",
    "    3×3 이미지를 입력 받아 LBP 패턴을 생성한 후 \n",
    "    10진수 값으로 반환해주는 함수 작성\n",
    "    \n",
    "    <조건 1>\n",
    "    패턴 생성 순서 = [4 3 2\n",
    "                   5 - 1\n",
    "                   6 7 8]    \n",
    "    \n",
    "    2^7   2^6   2^5   2^4   2^3   2^2   2^1   2^0\n",
    "     8     7     6     5     4     3     2     1\n",
    "    2,2   2,1   2,0   1,0   0,0   0,1   0,2   1,2\n",
    "     \n",
    "    <조건 2>\n",
    "    if neighbor_pixel > center:\n",
    "        1\n",
    "    else:\n",
    "        0\n",
    "    '''   \n",
    "    n = 0\n",
    "    tmp_img = np.array([[0,0,0],\n",
    "                        [0,0,0],\n",
    "                        [0,0,0]])\n",
    "    for i in range(0,3):\n",
    "        for j in range(0,3):\n",
    "            if (img[i][j] > img[1][1]):\n",
    "                tmp_img[i][j] = 1\n",
    "            else:\n",
    "                tmp_img[i][j] = 0\n",
    "    \n",
    "    tmp = (2**0)*tmp_img[1][2] + (2**1)*tmp_img[0][2] + (2**2)*tmp_img[0][1] + (2**3)*tmp_img[0][0] + (2**4)*tmp_img[1][0] + (2**5)*tmp_img[2][0] + (2**6)*tmp_img[2][1] + (2**7)*tmp_img[2][2]\n",
    "                \n",
    "    return tmp"
   ]
  },
  {
   "cell_type": "code",
   "execution_count": 2,
   "metadata": {},
   "outputs": [
    {
     "name": "stdout",
     "output_type": "stream",
     "text": [
      "139\n",
      "64\n"
     ]
    }
   ],
   "source": [
    "## test case 1\n",
    "img1 = np.array([[ 30,  26,  34],\n",
    "                 [ 21,  26,  28],\n",
    "                 [ 23,  22,  35]])\n",
    "out1 = solution(img1)\n",
    "print(out1)\n",
    "\n",
    "## test case 2\n",
    "img2 = np.array([[21, 20, 19],\n",
    "                 [20, 22, 20],\n",
    "                 [22, 24, 22]])\n",
    "out2 = solution(img2)\n",
    "print(out2)"
   ]
  },
  {
   "cell_type": "code",
   "execution_count": null,
   "metadata": {},
   "outputs": [],
   "source": []
  }
 ],
 "metadata": {
  "kernelspec": {
   "display_name": "Python 3",
   "language": "python",
   "name": "python3"
  },
  "language_info": {
   "codemirror_mode": {
    "name": "ipython",
    "version": 3
   },
   "file_extension": ".py",
   "mimetype": "text/x-python",
   "name": "python",
   "nbconvert_exporter": "python",
   "pygments_lexer": "ipython3",
   "version": "3.7.4"
  }
 },
 "nbformat": 4,
 "nbformat_minor": 2
}
