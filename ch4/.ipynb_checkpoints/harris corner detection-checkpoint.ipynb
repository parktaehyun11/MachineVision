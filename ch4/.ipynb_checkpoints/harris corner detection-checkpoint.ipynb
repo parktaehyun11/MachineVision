{
 "cells": [
  {
   "cell_type": "markdown",
   "metadata": {},
   "source": [
    "# 1. Meanshift algorithm\n",
    "\n",
    "- 2차 모멘트 행렬 $\\mathbf{A}$가 다음과 같을 때,\n",
    "$$\n",
    "\\mathbf{A}=\\begin{pmatrix} {G * {d_y}^2} & {G * {d_y}{d_x}} \\\\ {G * {d_y}{d_x}} & {G * {d_x}^2} \\end{pmatrix} \n",
    "$$\n",
    "\n",
    "<br>\n",
    "\n",
    "- $\\mathbf{A}$를 다음과 같이 표현하면\n",
    "$$\n",
    "\\mathbf{A}=\\begin{pmatrix} p & r \\\\ r & q \\end{pmatrix} \n",
    "$$\n",
    "\n",
    "<br>\n",
    "\n",
    "- 특징 가능성 $R$는 다음과 같이 표현됨\n",
    "$$\n",
    "R = det(\\mathbf{A}) - k \\times trace(\\mathbf{A})^2  \\\\ \n",
    "= (pq-r^2)-k(p+q)^2\n",
    "$$\n",
    "\n",
    "<br>\n",
    "\n",
    "<img src='rc/harris_region.jpg' alt='harris_region' width=\"500\">\n",
    "\n",
    "\n",
    "### [reference]\n",
    "- [link #1 - opencv](https://opencv-python-tutroals.readthedocs.io/en/latest/py_tutorials/py_feature2d/py_features_harris/py_features_harris.html)  \n",
    "- [link #2 - blog](https://webnautes.tistory.com/1291)\n",
    "\n",
    "# 2. Practice"
   ]
  },
  {
   "cell_type": "code",
   "execution_count": null,
   "metadata": {},
   "outputs": [],
   "source": [
    "import cv2\n",
    "import numpy as np\n",
    "\n",
    "## 이미지 읽어오기\n",
    "img = cv2.imread('chessboard.jpg')\n",
    "gray = cv2.cvtColor(img, cv2.COLOR_BGR2GRAY)\n",
    "\n",
    "## Harris corner 검출\n",
    "## https://docs.opencv.org/2.4/modules/imgproc/doc/feature_detection.html#cornerharris\n",
    "dst = cv2.cornerHarris(src = gray,      # 8-bit or floating-point, 1-channel 이미지\n",
    "                       blockSize = 2,   # 코너 검출 시 고려할 이웃 픽셀의 거리\n",
    "                       ksize = 3,       # Sobel 마스크의 크기\n",
    "                       k = 0.04)        # 해리스 코너 검출 조절 파라미터\n",
    "\n",
    "# (optional) 특징점을 크게 보기 위하여 팽창 모폴로지 연산 수행\n",
    "dst = cv2.dilate(dst, None)\n",
    "\n",
    "## 원하는 특징을 검출하기 위한 임계값 설정\n",
    "# img[dst > 0.01*dst.max()] = [0,0,255]\n",
    "img[dst > 0.02] = [0,0,255]\n",
    "\n",
    "## 결과 그리기\n",
    "cv2.imshow('harris corner', img)\n",
    "cv2.waitKey()\n",
    "\n",
    "cv2.destroyAllWindows()"
   ]
  },
  {
   "cell_type": "code",
   "execution_count": null,
   "metadata": {},
   "outputs": [],
   "source": [
    "import cv2\n",
    "import numpy as np\n",
    "\n",
    "## 이미지 읽어오기\n",
    "img = cv2.imread('building.jpg')\n",
    "gray = cv2.cvtColor(img, cv2.COLOR_BGR2GRAY)\n",
    "\n",
    "## Harris corner 검출\n",
    "## https://docs.opencv.org/2.4/modules/imgproc/doc/feature_detection.html#cornerharris\n",
    "dst = cv2.cornerHarris(src = gray,      # 8-bit or floating-point, 1-channel 이미지\n",
    "                       blockSize = 2,   # 코너 검출 시 고려할 이웃 픽셀의 거리\n",
    "                       ksize = 3,       # Sobel 마스크의 크기\n",
    "                       k = 0.04)        # 해리스 코너 검출 조절 파라미터\n",
    "\n",
    "# (optional) 특징점을 크게 보기 위하여 팽창 모폴로지 연산 수행\n",
    "dst = cv2.dilate(dst, None)\n",
    "\n",
    "## 원하는 특징을 검출하기 위한 임계값 설정\n",
    "# img[dst > 0.01*dst.max()] = [0,0,255]\n",
    "img[dst > 0.01] = [0,0,255] #corner\n",
    "#img[dst == 0] = [0,0,255] #corner, edge 제외 부분\n",
    "#img[dst < 0] = [0,0,255] #edge\n",
    "\n",
    "## 결과 그리기\n",
    "cv2.imshow('harris corner', img)\n",
    "cv2.waitKey()\n",
    "\n",
    "cv2.destroyAllWindows()"
   ]
  },
  {
   "cell_type": "code",
   "execution_count": 9,
   "metadata": {},
   "outputs": [
    {
     "name": "stdout",
     "output_type": "stream",
     "text": [
      "[[False False False False False  True  True  True  True  True]]\n",
      "[ True  True False False False False False False False False]\n"
     ]
    }
   ],
   "source": [
    "import numpy as np\n",
    "a = np.array([1,2,3,4,5,6,7,8,9,10])\n",
    "b = np.array([a>5])\n",
    "print (b)\n",
    "c = a<=2\n",
    "c[c<=2]\n",
    "print(c)\n",
    "\n",
    "a[a<=2]"
   ]
  },
  {
   "cell_type": "code",
   "execution_count": 10,
   "metadata": {},
   "outputs": [
    {
     "data": {
      "text/plain": [
       "array([1, 2])"
      ]
     },
     "execution_count": 10,
     "metadata": {},
     "output_type": "execute_result"
    }
   ],
   "source": [
    "a = np.array([1,2,3,4])\n",
    "a[a<=2]"
   ]
  },
  {
   "cell_type": "code",
   "execution_count": null,
   "metadata": {},
   "outputs": [],
   "source": []
  }
 ],
 "metadata": {
  "anaconda-cloud": {},
  "kernelspec": {
   "display_name": "Python 3",
   "language": "python",
   "name": "python3"
  },
  "language_info": {
   "codemirror_mode": {
    "name": "ipython",
    "version": 3
   },
   "file_extension": ".py",
   "mimetype": "text/x-python",
   "name": "python",
   "nbconvert_exporter": "python",
   "pygments_lexer": "ipython3",
   "version": "3.7.4"
  }
 },
 "nbformat": 4,
 "nbformat_minor": 1
}
